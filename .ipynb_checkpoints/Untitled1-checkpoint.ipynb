{
 "cells": [
  {
   "cell_type": "code",
   "execution_count": null,
   "metadata": {},
   "outputs": [
    {
     "name": "stdout",
     "output_type": "stream",
     "text": [
      "fourcc:\u0000\u0000\u0000\u0000 fps:30.0　width:1280.0　height:720.0\n"
     ]
    }
   ],
   "source": [
    "# -*- coding: utf-8 -*-\n",
    "import cv2\n",
    "\n",
    "# Webカメラ\n",
    "DEVICE_ID = 0 \n",
    "\n",
    "WIDTH = 800\n",
    "HEIGHT = 600\n",
    "FPS = 40\n",
    "\n",
    "def decode_fourcc(v):\n",
    "        v = int(v)\n",
    "        return \"\".join([chr((v >> 8 * i) & 0xFF) for i in range(4)])\n",
    "\n",
    "def main():\n",
    "    cap = cv2.VideoCapture (DEVICE_ID)\n",
    "\n",
    "    # フォーマット・解像度・FPSの設定\n",
    "    #cap.set(cv2.CAP_PROP_FOURCC, cv2.VideoWriter_fourcc('M','J','P','G'))\n",
    "    cap.set(cv2.CAP_PROP_FOURCC, cv2.VideoWriter_fourcc('Y','U','Y','V'))\n",
    "    cap.set(cv2.CAP_PROP_FRAME_WIDTH, WIDTH)\n",
    "    cap.set(cv2.CAP_PROP_FRAME_HEIGHT, HEIGHT)\n",
    "    cap.set(cv2.CAP_PROP_FPS, FPS)\n",
    "\n",
    "    # フォーマット・解像度・FPSの取得\n",
    "    fourcc = decode_fourcc(cap.get(cv2.CAP_PROP_FOURCC))\n",
    "    width = cap.get(cv2.CAP_PROP_FRAME_WIDTH)\n",
    "    height = cap.get(cv2.CAP_PROP_FRAME_HEIGHT)\n",
    "    fps = cap.get(cv2.CAP_PROP_FPS)\n",
    "    print(\"fourcc:{} fps:{}　width:{}　height:{}\".format(fourcc, fps, width, height))\n",
    "\n",
    "    while True:\n",
    "        \n",
    "        # カメラ画像取得\n",
    "        _, frame = cap.read()\n",
    "        if(frame is None):\n",
    "            continue\n",
    "\n",
    "        # 画像表示\n",
    "        cv2.imshow('frame', frame)\n",
    "        \n",
    "        # キュー入力判定(1msの待機)\n",
    "        # waitKeyがないと、imshow()は表示できない\n",
    "        # 'q'をタイプされたらループから抜ける\n",
    "        if cv2.waitKey(1) & 0xFF == ord('q'):\n",
    "            break\n",
    "    \n",
    "    # VideoCaptureオブジェクト破棄\n",
    "    cap.release()\n",
    "    cv2.destroyAllWindows()\n",
    "\n",
    "if __name__ == '__main__':\n",
    "\tmain()"
   ]
  },
  {
   "cell_type": "code",
   "execution_count": null,
   "metadata": {},
   "outputs": [],
   "source": []
  }
 ],
 "metadata": {
  "kernelspec": {
   "display_name": "Python 3",
   "language": "python",
   "name": "python3"
  },
  "language_info": {
   "codemirror_mode": {
    "name": "ipython",
    "version": 3
   },
   "file_extension": ".py",
   "mimetype": "text/x-python",
   "name": "python",
   "nbconvert_exporter": "python",
   "pygments_lexer": "ipython3",
   "version": "3.8.1"
  }
 },
 "nbformat": 4,
 "nbformat_minor": 4
}
